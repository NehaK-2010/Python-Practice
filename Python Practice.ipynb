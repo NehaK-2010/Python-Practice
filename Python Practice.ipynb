{
 "cells": [
  {
   "cell_type": "code",
   "execution_count": 0,
   "metadata": {
    "application/vnd.databricks.v1+cell": {
     "cellMetadata": {
      "byteLimit": 2048000,
      "rowLimit": 10000
     },
     "inputWidgets": {},
     "nuid": "668ef066-2a98-431d-ac79-cd4ead12e84c",
     "showTitle": false,
     "tableResultSettingsMap": {},
     "title": ""
    }
   },
   "outputs": [],
   "source": [
    "employee = ['alice','neha','SG',1,2,3.5,True]"
   ]
  },
  {
   "cell_type": "code",
   "execution_count": 0,
   "metadata": {
    "application/vnd.databricks.v1+cell": {
     "cellMetadata": {
      "byteLimit": 2048000,
      "rowLimit": 10000
     },
     "inputWidgets": {},
     "nuid": "948c1ffd-66ca-4767-b337-021c389ebb3e",
     "showTitle": false,
     "tableResultSettingsMap": {},
     "title": ""
    }
   },
   "outputs": [],
   "source": [
    "print(employee)"
   ]
  },
  {
   "cell_type": "code",
   "execution_count": 0,
   "metadata": {
    "application/vnd.databricks.v1+cell": {
     "cellMetadata": {
      "byteLimit": 2048000,
      "rowLimit": 10000
     },
     "inputWidgets": {},
     "nuid": "2d424795-5016-4ee9-a548-95912179b010",
     "showTitle": false,
     "tableResultSettingsMap": {},
     "title": ""
    }
   },
   "outputs": [],
   "source": [
    "emp = employee[0:-1:2]\n",
    "print(emp)"
   ]
  },
  {
   "cell_type": "markdown",
   "metadata": {
    "application/vnd.databricks.v1+cell": {
     "cellMetadata": {},
     "inputWidgets": {},
     "nuid": "1a789dba-3714-48dc-aa43-ac6d1c9d7613",
     "showTitle": false,
     "tableResultSettingsMap": {},
     "title": ""
    }
   },
   "source": [
    "### Dictionary"
   ]
  },
  {
   "cell_type": "code",
   "execution_count": 0,
   "metadata": {
    "application/vnd.databricks.v1+cell": {
     "cellMetadata": {
      "byteLimit": 2048000,
      "rowLimit": 10000
     },
     "inputWidgets": {},
     "nuid": "fc75235c-3a72-4914-be98-2f9fd328856b",
     "showTitle": false,
     "tableResultSettingsMap": {},
     "title": ""
    }
   },
   "outputs": [],
   "source": [
    "employee_info = {'name':'Alice','age':25,'salary':100000}\n",
    "print(employee_info)\n",
    "print(employee_info['name'])\n",
    "print(employee_info.get('name'))"
   ]
  },
  {
   "cell_type": "code",
   "execution_count": 0,
   "metadata": {
    "application/vnd.databricks.v1+cell": {
     "cellMetadata": {
      "byteLimit": 2048000,
      "rowLimit": 10000
     },
     "inputWidgets": {},
     "nuid": "56bbb9c1-b8d6-4289-922f-2bf83ca7b2f3",
     "showTitle": false,
     "tableResultSettingsMap": {},
     "title": ""
    }
   },
   "outputs": [],
   "source": [
    "print(employee_info.get('location','Not Found'))"
   ]
  },
  {
   "cell_type": "code",
   "execution_count": 0,
   "metadata": {
    "application/vnd.databricks.v1+cell": {
     "cellMetadata": {
      "byteLimit": 2048000,
      "rowLimit": 10000
     },
     "inputWidgets": {},
     "nuid": "f927d0fb-07f5-45fb-ae53-28abfccbc59d",
     "showTitle": false,
     "tableResultSettingsMap": {},
     "title": ""
    }
   },
   "outputs": [],
   "source": [
    "customer = {'name':'neha', 'location':'bengaluru', 'order_total':25}\n",
    "print(customer)"
   ]
  },
  {
   "cell_type": "code",
   "execution_count": 0,
   "metadata": {
    "application/vnd.databricks.v1+cell": {
     "cellMetadata": {
      "byteLimit": 2048000,
      "rowLimit": 10000
     },
     "inputWidgets": {},
     "nuid": "620210c5-32de-4129-a1ea-f1c2b300f742",
     "showTitle": false,
     "tableResultSettingsMap": {},
     "title": ""
    }
   },
   "outputs": [],
   "source": [
    "#creat a list of 5 product names. Loop through and print each in uppercase\n",
    "product = []\n",
    "for i in range(5):\n",
    "  product.append(input('enter product name'))\n",
    "print(product)\n",
    "for i in product:\n",
    "  print(i.upper())"
   ]
  },
  {
   "cell_type": "code",
   "execution_count": 0,
   "metadata": {
    "application/vnd.databricks.v1+cell": {
     "cellMetadata": {
      "byteLimit": 2048000,
      "rowLimit": 10000
     },
     "inputWidgets": {},
     "nuid": "07716d81-d866-46a2-902c-d385fd018ed7",
     "showTitle": false,
     "tableResultSettingsMap": {},
     "title": ""
    }
   },
   "outputs": [],
   "source": [
    "#use an if - else block to check if order_total > 1000 and label as 'High-Value' or 'Normal'\n",
    "for i in customer:\n",
    "    if customer['order_total'] > 1000:\n",
    "        c = 'High-Value'\n",
    "    else:\n",
    "        c = 'Normal'\n",
    "\n",
    "print(c)"
   ]
  },
  {
   "cell_type": "code",
   "execution_count": 0,
   "metadata": {
    "application/vnd.databricks.v1+cell": {
     "cellMetadata": {
      "byteLimit": 2048000,
      "rowLimit": 10000
     },
     "inputWidgets": {},
     "nuid": "b069f284-bf07-4800-abd8-07da0ec2bbff",
     "showTitle": false,
     "tableResultSettingsMap": {},
     "title": ""
    }
   },
   "outputs": [],
   "source": [
    "#write a function to calculate discount(10%) on an order amount and return the final price\n",
    "def discount(amount):\n",
    "    dis = (amount - ((10/100)*amount))\n",
    "    return dis\n",
    "\n",
    "amt = int(input('enter amount'))\n",
    "print(discount(amt))"
   ]
  },
  {
   "cell_type": "code",
   "execution_count": 0,
   "metadata": {
    "application/vnd.databricks.v1+cell": {
     "cellMetadata": {
      "byteLimit": 2048000,
      "rowLimit": 10000
     },
     "inputWidgets": {},
     "nuid": "1b322502-e954-4ad4-bdd4-6a42d855d0eb",
     "showTitle": false,
     "tableResultSettingsMap": {},
     "title": ""
    }
   },
   "outputs": [],
   "source": [
    "#read a csv not using pyspark\n",
    "\n",
    "import csv\n",
    "\n",
    "with open('loan_applications.csv', mode = 'r') as csv_file:\n",
    "    csv_reader = csv.reader(csv_file)\n",
    "    for rw in csv_reader:\n",
    "        print(rw)\n"
   ]
  },
  {
   "cell_type": "code",
   "execution_count": 0,
   "metadata": {
    "application/vnd.databricks.v1+cell": {
     "cellMetadata": {
      "byteLimit": 2048000,
      "rowLimit": 10000
     },
     "inputWidgets": {},
     "nuid": "e58e9f5e-83af-43a6-8eb2-ab16cb51876e",
     "showTitle": false,
     "tableResultSettingsMap": {},
     "title": ""
    }
   },
   "outputs": [],
   "source": [
    "#read a csv not using pyspark from the second row\n",
    "\n",
    "with open('loan_applications.csv', mode='r') as csv_file:\n",
    "    csv_reader = csv.reader(csv_file)\n",
    "    next(csv_reader)  # Skip the header row\n",
    "    for rw in csv_reader:\n",
    "        print(rw)"
   ]
  },
  {
   "cell_type": "code",
   "execution_count": 0,
   "metadata": {
    "application/vnd.databricks.v1+cell": {
     "cellMetadata": {
      "byteLimit": 2048000,
      "rowLimit": 10000
     },
     "inputWidgets": {},
     "nuid": "33140f7c-ee3d-47a1-b577-1dcc00190d92",
     "showTitle": false,
     "tableResultSettingsMap": {},
     "title": ""
    }
   },
   "outputs": [],
   "source": [
    "#read a csv not using pyspark from the nth row\n",
    "\n",
    "n = int(input('enter row number'))  # specify the row number to start from\n",
    "with open('loan_applications.csv', mode='r') as csv_file:\n",
    "    csv_reader = csv.reader(csv_file)\n",
    "    for _ in range(n - 1):\n",
    "        next(csv_reader)  # Skip the first n-1 rows\n",
    "    for rw in csv_reader:\n",
    "        print(rw)"
   ]
  },
  {
   "cell_type": "code",
   "execution_count": 0,
   "metadata": {
    "application/vnd.databricks.v1+cell": {
     "cellMetadata": {
      "byteLimit": 2048000,
      "rowLimit": 10000
     },
     "inputWidgets": {},
     "nuid": "fdc61851-f129-4f3c-87df-1839dfff50ed",
     "showTitle": false,
     "tableResultSettingsMap": {},
     "title": ""
    }
   },
   "outputs": [],
   "source": [
    "#read a csv not using pyspark as a dictionary\n",
    "import csv\n",
    "\n",
    "with open('loan_applications.csv', mode='r') as csv_file:\n",
    "    csv_reader = csv.DictReader(csv_file)\n",
    "    for rw in csv_reader:\n",
    "        print(rw)"
   ]
  },
  {
   "cell_type": "code",
   "execution_count": 0,
   "metadata": {
    "application/vnd.databricks.v1+cell": {
     "cellMetadata": {
      "byteLimit": 2048000,
      "rowLimit": 10000
     },
     "inputWidgets": {},
     "nuid": "4c75f24b-449b-47be-9794-1b99bbdb73ae",
     "showTitle": false,
     "tableResultSettingsMap": {},
     "title": ""
    }
   },
   "outputs": [],
   "source": [
    "#read a csv not using pyspark as a dictionary\n",
    "import csv\n",
    "\n",
    "with open('loan_applications.csv', mode='r') as csv_file:\n",
    "    csv_reader = csv.DictReader(csv_file)\n",
    "    for rw in csv_reader:\n",
    "        print(rw['loan_type'])"
   ]
  },
  {
   "cell_type": "code",
   "execution_count": 0,
   "metadata": {
    "application/vnd.databricks.v1+cell": {
     "cellMetadata": {
      "byteLimit": 2048000,
      "rowLimit": 10000
     },
     "inputWidgets": {},
     "nuid": "cbe6a10d-add8-4ba6-8841-7523df576c45",
     "showTitle": false,
     "tableResultSettingsMap": {},
     "title": ""
    }
   },
   "outputs": [],
   "source": [
    "#write a csv not using pyspark\n",
    "import csv\n",
    "\n",
    "with open('output.csv', mode='w', newline='') as csv_file:\n",
    "    csv_writer = csv.writer(csv_file)\n",
    "    csv_writer.writerow(['name', 'age', 'city', 'state', 'zip', 'phone', 'loan_type', 'loan_amount', 'loan_term', 'interest_rate', 'down_payment', 'property_type', 'property_value', 'property_zip', 'property_city', 'property_state'])\n",
    "    csv_writer.writerow(['John', 35, 'New York', 'NY', '10001', '123-456-7890', 'Conventional', 200000, 30, 4.5, 20000, 'Single Family', 300000, '10001', 'New York', 'NY'])\n",
    "    csv_writer.writerow(['Jane', 40, 'Los Angeles', 'CA', '90001', '555-555-5555', 'Conventional', 300000, 30, 4.5, 30000, 'Single Family', 400000, '90001', 'Los Angeles', 'CA'])\n",
    "    csv_writer.writerow(['Bob', 30, 'Chicago', 'IL', '60601', '999-999-9999', 'Conventional', 400000, 30, 4.5, 40000, 'Single Family', 500000, '60601', 'Chicago', 'IL'])\n",
    "    csv_writer.writerow(['Alice', 25 , 'Houston', 'TX', '77001', '111-111-1111', 'Conventional', 500000, 30, 4.5, 50000, '', 600000, '77001', 'Houston', 'TX'])\n"
   ]
  },
  {
   "cell_type": "markdown",
   "metadata": {
    "application/vnd.databricks.v1+cell": {
     "cellMetadata": {},
     "inputWidgets": {},
     "nuid": "24f8a25c-8002-4ad6-b2d1-c44a16297e87",
     "showTitle": false,
     "tableResultSettingsMap": {},
     "title": ""
    }
   },
   "source": [
    "###Creating an Alert"
   ]
  },
  {
   "cell_type": "code",
   "execution_count": 0,
   "metadata": {
    "application/vnd.databricks.v1+cell": {
     "cellMetadata": {
      "byteLimit": 2048000,
      "rowLimit": 10000
     },
     "inputWidgets": {},
     "nuid": "d0302e1b-50a2-436a-881d-8357f372b16b",
     "showTitle": false,
     "tableResultSettingsMap": {},
     "title": ""
    }
   },
   "outputs": [],
   "source": [
    "#reading a log file and creating an alert\n",
    "\n",
    "with open('log.txt', 'r') as file:\n",
    "    csv_reader = csv.reader(file)\n",
    "    count = 1\n",
    "    for line in csv_reader:\n",
    "        if 'ERROR' in line:\n",
    "            print(f'Alert in line {count}: {line}')\n",
    "        else:\n",
    "            print(f'No alert in line {count}: {line}')\n",
    "            #continue\n",
    "        count += 1 #here is incremented for every line, no matter if it was an alert or not.\n",
    "\n"
   ]
  },
  {
   "cell_type": "code",
   "execution_count": 0,
   "metadata": {
    "application/vnd.databricks.v1+cell": {
     "cellMetadata": {
      "byteLimit": 2048000,
      "rowLimit": 10000
     },
     "inputWidgets": {},
     "nuid": "d901a4b9-2278-40c5-9cad-c15b403f3b5f",
     "showTitle": false,
     "tableResultSettingsMap": {},
     "title": ""
    }
   },
   "outputs": [],
   "source": [
    "#reading a log file and creating an alert\n",
    "\n",
    "with open('log.txt', 'r') as file:\n",
    "    csv_reader = csv.reader(file)\n",
    "    count = 1\n",
    "    for line in csv_reader:\n",
    "        if 'ERROR' in line:\n",
    "            print(f'Alert in line {count}: {line}')\n",
    "        else:\n",
    "            print(f'No alert in line {count}: {line}')\n",
    "            #continue\n",
    "        count += 1 #If not → continue is called, which skips the count += 1 line.\n"
   ]
  },
  {
   "cell_type": "code",
   "execution_count": 0,
   "metadata": {
    "application/vnd.databricks.v1+cell": {
     "cellMetadata": {
      "byteLimit": 2048000,
      "rowLimit": 10000
     },
     "inputWidgets": {},
     "nuid": "04dfed71-5d6d-446f-bda9-63aa19eef2e1",
     "showTitle": false,
     "tableResultSettingsMap": {},
     "title": ""
    }
   },
   "outputs": [],
   "source": [
    "#reading a log file and creating an alert\n",
    "\n",
    "with open('log.txt', 'r') as file:\n",
    "    csv_reader = csv.reader(file)\n",
    "    count = 1\n",
    "    for line in csv_reader:\n",
    "        if 'ERROR' in line:\n",
    "            print(f'Alert in line {count}: {line}')\n",
    "        count += 1"
   ]
  },
  {
   "cell_type": "markdown",
   "metadata": {
    "application/vnd.databricks.v1+cell": {
     "cellMetadata": {},
     "inputWidgets": {},
     "nuid": "f8173ce0-0618-495a-9c2b-428f231d72ce",
     "showTitle": false,
     "tableResultSettingsMap": {},
     "title": ""
    }
   },
   "source": [
    "### Test API"
   ]
  },
  {
   "cell_type": "code",
   "execution_count": 0,
   "metadata": {
    "application/vnd.databricks.v1+cell": {
     "cellMetadata": {
      "byteLimit": 2048000,
      "rowLimit": 10000
     },
     "inputWidgets": {},
     "nuid": "c83fde4a-b317-4192-88ce-e165a3489747",
     "showTitle": false,
     "tableResultSettingsMap": {},
     "title": ""
    }
   },
   "outputs": [],
   "source": [
    "# Test an API\n",
    "\n",
    "import requests\n",
    "\n",
    "url = \"https://cricbuzz-cricket.p.rapidapi.com/matches/v1/recent\"\n",
    "\n",
    "headers = {\n",
    "\t\"x-rapidapi-key\": \"b30a8ed66dmshed8b4c7bbd80c4cp1f4eccjsn82fb4b672a54\",\n",
    "\t\"x-rapidapi-host\": \"cricbuzz-cricket.p.rapidapi.com\"\n",
    "}\n",
    "\n",
    "response = requests.get(url, headers=headers)\n",
    "\n",
    "print(response.json())\n",
    "\n",
    "#print(response.csv())\n"
   ]
  }
 ],
 "metadata": {
  "application/vnd.databricks.v1+notebook": {
   "computePreferences": null,
   "dashboards": [],
   "environmentMetadata": {
    "base_environment": "",
    "environment_version": "2"
   },
   "inputWidgetPreferences": null,
   "language": "python",
   "notebookMetadata": {
    "pythonIndentUnit": 4
   },
   "notebookName": "Python Practice",
   "widgets": {}
  },
  "language_info": {
   "name": "python"
  }
 },
 "nbformat": 4,
 "nbformat_minor": 0
}
