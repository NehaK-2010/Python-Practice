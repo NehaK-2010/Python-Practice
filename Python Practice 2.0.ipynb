{
 "cells": [
  {
   "cell_type": "markdown",
   "metadata": {
    "application/vnd.databricks.v1+cell": {
     "cellMetadata": {},
     "inputWidgets": {},
     "nuid": "df5e9470-918b-4bc9-a308-90ecadf7ff17",
     "showTitle": false,
     "tableResultSettingsMap": {},
     "title": ""
    }
   },
   "source": [
    "### Error Handling and Logging"
   ]
  },
  {
   "cell_type": "code",
   "execution_count": 0,
   "metadata": {
    "application/vnd.databricks.v1+cell": {
     "cellMetadata": {
      "byteLimit": 2048000,
      "rowLimit": 10000
     },
     "inputWidgets": {},
     "nuid": "e063875d-8fbf-4fab-87a6-95e16657f3df",
     "showTitle": false,
     "tableResultSettingsMap": {},
     "title": ""
    }
   },
   "outputs": [],
   "source": [
    "import logging, csv\n",
    "\n",
    "logging.basicConfig(level=logging.INFO, format='%(asctime)s - %(levelname)s - %(message)s')\n",
    "\n",
    "try:\n",
    "    with open('customers.csv','r') as file:\n",
    "        csv_reader = csv.reader(file)\n",
    "        for row in csv_reader:\n",
    "            print(row)\n",
    "    logging.info(\"Successfully read from customers.csv\")\n",
    "except Exception as e:\n",
    "    logging.error(f\"Error reading from customers.csv: {e}\")\n",
    "\n",
    "try:\n",
    "    with open('customers.csv','a', newline='') as file:\n",
    "        csv_writer = csv.writer(file)\n",
    "        csv_writer.writerow(['100','John','Kolkata','850'])\n",
    "    logging.info(\"Successfully wrote to customers.csv\")\n",
    "except Exception as e:\n",
    "    logging.error(f\"Error writing to customers.csv: {e}\")"
   ]
  },
  {
   "cell_type": "code",
   "execution_count": 0,
   "metadata": {
    "application/vnd.databricks.v1+cell": {
     "cellMetadata": {
      "byteLimit": 2048000,
      "rowLimit": 10000
     },
     "inputWidgets": {},
     "nuid": "99c2b2f0-f135-42d7-85ff-71640b7fa29d",
     "showTitle": false,
     "tableResultSettingsMap": {},
     "title": ""
    }
   },
   "outputs": [],
   "source": [
    "import csv\n",
    "import logging\n",
    "\n",
    "# ✅ Log setup: Save logs to a file\n",
    "logging.basicConfig(\n",
    "    filename='customer_activity.log',     # log file\n",
    "    level=logging.INFO,                   # log level\n",
    "    format='%(asctime)s - %(levelname)s - %(message)s'\n",
    ")\n",
    "\n",
    "#expected_headers = ['ID', 'Name', 'City', 'Amount']\n",
    "expected_headers = ['customer_id', 'customer_name', 'location', 'order_value']\n",
    "\n",
    "# ✅ Reading CSV\n",
    "try:\n",
    "    with open('customers.csv', 'r') as file:\n",
    "        csv_reader = csv.reader(file)\n",
    "        headers = next(csv_reader)  # read the first row (header)\n",
    "        \n",
    "        if headers != expected_headers:\n",
    "            logging.warning(f\"Header mismatch. Expected: {expected_headers}, Found: {headers}\")\n",
    "        else:\n",
    "            logging.info(\"Headers validated successfully.\")\n",
    "\n",
    "        for row in csv_reader:\n",
    "            if row[2].strip().lower() == 'kolkata':  # filter rows where City is Kolkata\n",
    "                logging.info(f\"Kolkata customer found: {row}\")\n",
    "                print(\"Kolkata customer:\", row)\n",
    "except Exception as e:\n",
    "    logging.error(f\"Error reading from customers.csv: {e}\")\n",
    "\n",
    "# ✅ Writing to CSV\n",
    "try:\n",
    "    with open('customers.csv', 'a', newline='') as file:\n",
    "        csv_writer = csv.writer(file)\n",
    "        new_row = ['101', 'Alice', 'Mumbai', '900']\n",
    "        csv_writer.writerow(new_row)\n",
    "        logging.info(f\"New customer added: {new_row}\")\n",
    "except Exception as e:\n",
    "    logging.error(f\"Error writing to customers.csv: {e}\")\n"
   ]
  },
  {
   "cell_type": "code",
   "execution_count": 0,
   "metadata": {
    "application/vnd.databricks.v1+cell": {
     "cellMetadata": {
      "byteLimit": 2048000,
      "rowLimit": 10000
     },
     "inputWidgets": {},
     "nuid": "00031adb-0306-4080-aeb6-e5740b20190a",
     "showTitle": false,
     "tableResultSettingsMap": {},
     "title": ""
    }
   },
   "outputs": [],
   "source": [
    "#Multiple Error Messages Handling - else/finally block\n",
    "\n",
    "try:\n",
    "    a = int(input(\"Enter first number: \"))\n",
    "    b = int(input(\"Enter second number: \"))\n",
    "    c = a / b\n",
    "\n",
    "except ZeroDivisionError:\n",
    "    print(\"Cannot divide by zero\")\n",
    "except ValueError:\n",
    "    print(\"Invalid input. Please enter a number.\")\n",
    "else:\n",
    "    print(f\"Result: {c}\")\n",
    "finally:\n",
    "    print(\"Program execution completed.\")"
   ]
  }
 ],
 "metadata": {
  "application/vnd.databricks.v1+notebook": {
   "computePreferences": null,
   "dashboards": [],
   "environmentMetadata": {
    "base_environment": "",
    "environment_version": "2"
   },
   "inputWidgetPreferences": null,
   "language": "python",
   "notebookMetadata": {
    "pythonIndentUnit": 4
   },
   "notebookName": "Python Practice 2.0",
   "widgets": {}
  },
  "language_info": {
   "name": "python"
  }
 },
 "nbformat": 4,
 "nbformat_minor": 0
}
