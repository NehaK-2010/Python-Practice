{
 "cells": [
  {
   "cell_type": "markdown",
   "metadata": {
    "application/vnd.databricks.v1+cell": {
     "cellMetadata": {},
     "inputWidgets": {},
     "nuid": "7a2ec230-d138-48da-b81e-f99e2b63ce4d",
     "showTitle": false,
     "tableResultSettingsMap": {},
     "title": ""
    }
   },
   "source": [
    "## OOP Concept"
   ]
  },
  {
   "cell_type": "markdown",
   "metadata": {
    "application/vnd.databricks.v1+cell": {
     "cellMetadata": {},
     "inputWidgets": {},
     "nuid": "94deb09a-7b37-4875-bae0-b5c482334f0a",
     "showTitle": false,
     "tableResultSettingsMap": {},
     "title": ""
    }
   },
   "source": [
    "### Classes and Objects"
   ]
  },
  {
   "cell_type": "code",
   "execution_count": 0,
   "metadata": {
    "application/vnd.databricks.v1+cell": {
     "cellMetadata": {
      "byteLimit": 2048000,
      "rowLimit": 10000
     },
     "inputWidgets": {},
     "nuid": "a86ddcd0-8476-4b0a-85ef-20f31adb15db",
     "showTitle": false,
     "tableResultSettingsMap": {},
     "title": ""
    }
   },
   "outputs": [],
   "source": [
    "#Create a class\n",
    "\n",
    "class customers:\n",
    "    def __init__(self, name, age):\n",
    "        self.name = name\n",
    "        self.age = age\n",
    "\n",
    "    def greet(self):\n",
    "        print(f\"Hello, my name is {self.name} and I am {self.age} years old.\")\n",
    "\n",
    "c1 = customers(\"Neha\", 26)\n",
    "c1.greet()"
   ]
  },
  {
   "cell_type": "code",
   "execution_count": 0,
   "metadata": {
    "application/vnd.databricks.v1+cell": {
     "cellMetadata": {
      "byteLimit": 2048000,
      "rowLimit": 10000
     },
     "inputWidgets": {},
     "nuid": "c67604ad-e82a-4474-9f83-c9783122b7ef",
     "showTitle": false,
     "tableResultSettingsMap": {},
     "title": ""
    }
   },
   "outputs": [],
   "source": [
    "class pipeline:\n",
    "    def __init__(self, pipeline_name):\n",
    "        self.pipeline_name = pipeline_name\n",
    "\n",
    "    def execute(self):\n",
    "        print(f\"Execution step : {self.pipeline_name}\")\n",
    "\n",
    "ingest = pipeline(\"Ingestion\")\n",
    "ingest.execute()\n",
    "transfrom = pipeline(\"Transfromation\")\n",
    "transfrom.execute()"
   ]
  },
  {
   "cell_type": "markdown",
   "metadata": {
    "application/vnd.databricks.v1+cell": {
     "cellMetadata": {},
     "inputWidgets": {},
     "nuid": "b200924e-6a9d-4c9b-9ab7-1c8ed62241ea",
     "showTitle": false,
     "tableResultSettingsMap": {},
     "title": ""
    }
   },
   "source": [
    "## Encapsulation"
   ]
  },
  {
   "cell_type": "code",
   "execution_count": 0,
   "metadata": {
    "application/vnd.databricks.v1+cell": {
     "cellMetadata": {
      "byteLimit": 2048000,
      "rowLimit": 10000
     },
     "inputWidgets": {},
     "nuid": "2b80cf87-4f52-4d84-a469-1cf062e40956",
     "showTitle": false,
     "tableResultSettingsMap": {},
     "title": ""
    }
   },
   "outputs": [],
   "source": [
    "class DatabaseConnector:\n",
    "    def __init__(self):\n",
    "        self.credentials = \"user:pass@123\" # protected variables\n",
    "\n",
    "    def connect(self):\n",
    "        print(f\"Connecting to database with credentials: {self.credentials}\")\n",
    "        return \"DB connection established\"\n",
    "\n",
    "db_connector = DatabaseConnector()\n",
    "#db_connector.connect()\n",
    "print(db_connector.connect())\n"
   ]
  },
  {
   "cell_type": "markdown",
   "metadata": {
    "application/vnd.databricks.v1+cell": {
     "cellMetadata": {},
     "inputWidgets": {},
     "nuid": "e513ee76-8df2-4a3b-b390-bd9d6b35a634",
     "showTitle": false,
     "tableResultSettingsMap": {},
     "title": ""
    }
   },
   "source": [
    "### Constructor\n",
    "- All the classes have a function called intit(), which is always executed when the class is being initiated.\n",
    "- The **Self** parameter is a reference to the current instanceof the class, and is used to access variablesthat belongs to the class.\n",
    "- The data or variables store in a program is also known as  attributes.\n",
    "- Multiple arguments can be defined in constructor.\n",
    "- Python does not support constructor overloading like Java or C++.\n",
    "- Objects and instances are same.\n",
    "- If a program is having same name of class attribute and object attribute then obj attr's preferrence >> class attr's preferrence"
   ]
  },
  {
   "cell_type": "code",
   "execution_count": 0,
   "metadata": {
    "application/vnd.databricks.v1+cell": {
     "cellMetadata": {
      "byteLimit": 2048000,
      "rowLimit": 10000
     },
     "inputWidgets": {},
     "nuid": "f31f182e-73ca-4dd4-acca-6cdccf586dd9",
     "showTitle": false,
     "tableResultSettingsMap": {},
     "title": ""
    }
   },
   "outputs": [],
   "source": [
    "class Student:\n",
    "\n",
    "  college_name = \"HIT\" # class attribute\n",
    "  #name = \"Anonymous\" # class attribute\n",
    "\n",
    "  #default constructor\n",
    "  #def __init__(self):\n",
    "    #pass\n",
    "  \n",
    "  #parameterized constructor\n",
    "  def __init__(self, name = \"Anonymous\"):\n",
    "    print(\"Adding new students in DB....\")\n",
    "    self.name = name # self.name is an instance/object attribute\n",
    "\n",
    "s1 = Student(\"Nutan\")\n",
    "print(s1.name)\n",
    "s2 = Student(\"Neha\")\n",
    "print(s2.name)\n",
    "\n",
    "s3 = Student()\n",
    "print(s3.name)\n",
    "print(Student.college_name)\n"
   ]
  },
  {
   "cell_type": "markdown",
   "metadata": {
    "application/vnd.databricks.v1+cell": {
     "cellMetadata": {},
     "inputWidgets": {},
     "nuid": "d718125c-e31b-46a4-98d8-0c4f58dcab4a",
     "showTitle": false,
     "tableResultSettingsMap": {},
     "title": ""
    }
   },
   "source": [
    "### Method\n",
    "- Methods are the function that belongs to objects\n"
   ]
  },
  {
   "cell_type": "code",
   "execution_count": 0,
   "metadata": {
    "application/vnd.databricks.v1+cell": {
     "cellMetadata": {
      "byteLimit": 2048000,
      "rowLimit": 10000
     },
     "inputWidgets": {},
     "nuid": "1cbd2090-0108-40b4-b08e-bba9e5e556df",
     "showTitle": false,
     "tableResultSettingsMap": {},
     "title": ""
    }
   },
   "outputs": [],
   "source": [
    "class Student:\n",
    "    \n",
    "    college_name = \"HIT\" # class attribute\n",
    "    #name = \"Anonymous\" # class attribute\n",
    "\n",
    "    #default constructor\n",
    "    #def __init__(self):\n",
    "        #pass\n",
    "  \n",
    "    #parameterized constructor\n",
    "    def __init__(self, name = \"Anonymous\"):\n",
    "        #print(\"Adding new students in DB....\")\n",
    "        self.name = name # self.name is an instance/object \n",
    "    def welcome(self):\n",
    "        print(\"Welcome to my World\")\n",
    "        #print(\"Welcome to my World\" + \" \" + self.name)\n",
    "    \n",
    "\n",
    "\n",
    "s1 = Student(\"Nutan\")\n",
    "print(s1.name)\n",
    "s2 = Student(\"Neha\")\n",
    "print(s2.name)\n",
    "\n",
    "s3 = Student()\n",
    "print(s3.name)\n",
    "\n",
    "s4 = Student()\n",
    "s4.welcome()\n",
    "\n",
    "print(Student.college_name)"
   ]
  },
  {
   "cell_type": "code",
   "execution_count": 0,
   "metadata": {
    "application/vnd.databricks.v1+cell": {
     "cellMetadata": {
      "byteLimit": 2048000,
      "rowLimit": 10000
     },
     "inputWidgets": {},
     "nuid": "cfc75553-4363-46aa-8af8-a3de86567450",
     "showTitle": false,
     "tableResultSettingsMap": {},
     "title": ""
    }
   },
   "outputs": [],
   "source": [
    "# Create a Student class that takes name and marks of 3 subject as arguments in constructor. Then create a method to print the average\n",
    "\n",
    "class Student:\n",
    "    def __init__(self, name, science, maths, english):\n",
    "        self.name = name\n",
    "        self.science = science\n",
    "        self.maths = maths\n",
    "        self.english = english\n",
    "\n",
    "    def average(self):\n",
    "        avg = ((self.science + self.maths + self.english)/3)\n",
    "        print(f\"Average marks of {self.name} is {avg}\")\n",
    "\n",
    "s1 = Student(\"Neha\", 90, 80, 70)\n",
    "s1.average()"
   ]
  },
  {
   "cell_type": "markdown",
   "metadata": {
    "application/vnd.databricks.v1+cell": {
     "cellMetadata": {},
     "inputWidgets": {},
     "nuid": "435f2e75-76e9-423b-ba5c-0f18c933075e",
     "showTitle": false,
     "tableResultSettingsMap": {},
     "title": ""
    }
   },
   "source": [
    "### Static Method\n",
    "- **Methods** that don't use the self parameter(work at class level).\n",
    "- **Decorators** allow us to wrap another function in order to extend the behaviour of the wrapped function, without permanently modifying it."
   ]
  },
  {
   "cell_type": "code",
   "execution_count": 0,
   "metadata": {
    "application/vnd.databricks.v1+cell": {
     "cellMetadata": {
      "byteLimit": 2048000,
      "rowLimit": 10000
     },
     "inputWidgets": {},
     "nuid": "d55da79c-e933-451a-8f19-8d99afe73a5e",
     "showTitle": false,
     "tableResultSettingsMap": {},
     "title": ""
    }
   },
   "outputs": [],
   "source": [
    "class Student:\n",
    "    def __init__(self, name):\n",
    "        self.name = name\n",
    "\n",
    "    @staticmethod # Decorator\n",
    "    def hello():\n",
    "        print(\"Hello World\")\n",
    "\n",
    "s1 = Student(\"Neha\")\n",
    "s1.hello()"
   ]
  },
  {
   "cell_type": "markdown",
   "metadata": {
    "application/vnd.databricks.v1+cell": {
     "cellMetadata": {},
     "inputWidgets": {},
     "nuid": "ea154f03-d37a-4313-bb1a-fb0635c20934",
     "showTitle": false,
     "tableResultSettingsMap": {},
     "title": ""
    }
   },
   "source": [
    "### Abstraction & Encapsulation\n",
    "- **Abstraction** - Hiding the implementation details of a class and only showing the essential features to user.\n",
    "- **Encapsulation** - Wrapping data and functions into a single unit(object)"
   ]
  },
  {
   "cell_type": "code",
   "execution_count": 0,
   "metadata": {
    "application/vnd.databricks.v1+cell": {
     "cellMetadata": {
      "byteLimit": 2048000,
      "rowLimit": 10000
     },
     "inputWidgets": {},
     "nuid": "59915bca-d290-49dc-a874-197d72314136",
     "showTitle": false,
     "tableResultSettingsMap": {},
     "title": ""
    }
   },
   "outputs": [],
   "source": [
    "class Account:\n",
    "    def __init__(self, balance, account_number):\n",
    "        self.balance = balance\n",
    "        self.account_number = account_number\n",
    "\n",
    "    def debit(self, amount):\n",
    "        self.balance -= amount\n",
    "        print(f\"The remaining balance after debited amount is {self.display()}\")\n",
    "\n",
    "    def credit(self,amount):\n",
    "        self.balance += amount\n",
    "        print(f\"The remaining balance after credited amount is {self.display()}\")\n",
    "\n",
    "    def display(self):\n",
    "        return self.balance\n",
    "\n",
    "acc1 = Account(10000, 12345)\n",
    "#acc1.display()\n",
    "acc1.debit(500)\n",
    "acc1.credit(1000)"
   ]
  },
  {
   "cell_type": "markdown",
   "metadata": {
    "application/vnd.databricks.v1+cell": {
     "cellMetadata": {},
     "inputWidgets": {},
     "nuid": "2c0a3e2b-3862-4438-b2b6-375ec0bab9c8",
     "showTitle": false,
     "tableResultSettingsMap": {},
     "title": ""
    }
   },
   "source": [
    "**del function()** - used to delete he object properties or object itself.\n"
   ]
  },
  {
   "cell_type": "code",
   "execution_count": 0,
   "metadata": {
    "application/vnd.databricks.v1+cell": {
     "cellMetadata": {
      "byteLimit": 2048000,
      "rowLimit": 10000
     },
     "inputWidgets": {},
     "nuid": "a08cb8a2-a093-4cc2-b84d-8ef66543b6ad",
     "showTitle": false,
     "tableResultSettingsMap": {},
     "title": ""
    }
   },
   "outputs": [],
   "source": [
    "class Student:\n",
    "    def __init__(self, name):\n",
    "        self.name = name\n",
    "\n",
    "s1 = Student(\"Neha\")\n",
    "print(s1.name)\n",
    "\n",
    "del s1\n",
    "#print(s1.name)"
   ]
  },
  {
   "cell_type": "markdown",
   "metadata": {
    "application/vnd.databricks.v1+cell": {
     "cellMetadata": {},
     "inputWidgets": {},
     "nuid": "e25c1803-dfa5-41f5-a57d-e5d0b157ff76",
     "showTitle": false,
     "tableResultSettingsMap": {},
     "title": ""
    }
   },
   "source": [
    "### Private(like) attributes and methods\n",
    "- **conceptual implementations in python** - Private attributes & methods are accesible only within same class, not outside the class.\n",
    "\n",
    "- to create attributes, methods or variable private, we use __ (double underscore) to make it private"
   ]
  },
  {
   "cell_type": "code",
   "execution_count": 0,
   "metadata": {
    "application/vnd.databricks.v1+cell": {
     "cellMetadata": {
      "byteLimit": 2048000,
      "rowLimit": 10000
     },
     "inputWidgets": {},
     "nuid": "765b24be-9b0c-4a80-b9f8-0842280a0a07",
     "showTitle": false,
     "tableResultSettingsMap": {},
     "title": ""
    }
   },
   "outputs": [],
   "source": [
    "class Account:\n",
    "\n",
    "    __name = \"Anonymous\" #private attribute\n",
    "\n",
    "    def __init__(self, acc_nm, acc_pass):\n",
    "        self.acc_nm = acc_nm\n",
    "        self.__acc_pass = acc_pass #private variable\n",
    "\n",
    "    @staticmethod # Decorator\n",
    "    def __hello():   #private method\n",
    "        print(\"Hello! Welcome to my world!!!!.....\")\n",
    "\n",
    "acc1 = Account(\"12345\", \"abcde\")\n",
    "print(acc1.acc_nm)\n",
    "#print(acc1.__acc_pass)\n",
    "print(acc1._Account__acc_pass) #Accessing the private variable via name mangling\n",
    "\n",
    "acc1._Account__hello()"
   ]
  },
  {
   "cell_type": "markdown",
   "metadata": {
    "application/vnd.databricks.v1+cell": {
     "cellMetadata": {},
     "inputWidgets": {},
     "nuid": "a43557e4-430d-4734-850b-7a969010f7d6",
     "showTitle": false,
     "tableResultSettingsMap": {},
     "title": ""
    }
   },
   "source": [
    "### Inheritance\n",
    "- When one class derives the properties or methods of another class(parent/base)\n",
    "\n",
    "- **Types of inheritance**\n",
    "    - Single-Level inheritance\n",
    "    - Multi-Level inheritance\n",
    "    - Multiple inheritance\n",
    "\n"
   ]
  },
  {
   "cell_type": "code",
   "execution_count": 0,
   "metadata": {
    "application/vnd.databricks.v1+cell": {
     "cellMetadata": {
      "byteLimit": 2048000,
      "rowLimit": 10000
     },
     "inputWidgets": {},
     "nuid": "987738e1-0634-4f16-8fda-7c5a97b8e327",
     "showTitle": false,
     "tableResultSettingsMap": {},
     "title": ""
    }
   },
   "outputs": [],
   "source": [
    "#Single Level Inheritance\n",
    "\n",
    "class Car:\n",
    "    \n",
    "    @staticmethod\n",
    "    def start():\n",
    "        print(\"Car Started....\")\n",
    "\n",
    "    @staticmethod\n",
    "    def stop():\n",
    "        print(\"Car Stopped....\")\n",
    "\n",
    "class ToyotaCar(Car):\n",
    "    def __init__(self, name):\n",
    "        self.name = name\n",
    "\n",
    "car1 = ToyotaCar(\"Fortuner\")\n",
    "car2 = ToyotaCar(\"Prius\")\n",
    "\n",
    "car1.start()\n",
    "car2.stop()\n",
    "    "
   ]
  },
  {
   "cell_type": "code",
   "execution_count": 0,
   "metadata": {
    "application/vnd.databricks.v1+cell": {
     "cellMetadata": {
      "byteLimit": 2048000,
      "rowLimit": 10000
     },
     "inputWidgets": {},
     "nuid": "e0f6d100-938d-41c3-a769-5d55bf9f1a9c",
     "showTitle": false,
     "tableResultSettingsMap": {},
     "title": ""
    }
   },
   "outputs": [],
   "source": [
    "# Multi Level Inheritance\n",
    "\n",
    "class Car:\n",
    "\n",
    "    @staticmethod\n",
    "    def start():\n",
    "        print(\"Car Started....\")\n",
    "\n",
    "    @staticmethod\n",
    "    def stop():\n",
    "        print(\"Car Stopped....\")\n",
    "\n",
    "class ToyotaCar(Car):\n",
    "    def __init__(self, name):\n",
    "        self.name = name\n",
    "\n",
    "class Fortuner(ToyotaCar):\n",
    "    def __init__(self, name):\n",
    "        self.name = name\n",
    "\n",
    "car1 = Fortuner(\"Fortuner\")\n",
    "car2 = Fortuner(\"Prius\")\n",
    "car1.start()\n",
    "car2.stop()"
   ]
  },
  {
   "cell_type": "code",
   "execution_count": 0,
   "metadata": {
    "application/vnd.databricks.v1+cell": {
     "cellMetadata": {
      "byteLimit": 2048000,
      "rowLimit": 10000
     },
     "inputWidgets": {},
     "nuid": "e44b84c5-c602-4343-84f5-6819509c0766",
     "showTitle": false,
     "tableResultSettingsMap": {},
     "title": ""
    }
   },
   "outputs": [],
   "source": [
    "\n",
    "#Multiple Inheritance\n",
    "\n",
    "class A:\n",
    "    varA = \"Welcome to class A\"\n",
    "\n",
    "class B:\n",
    "    varB = \"Welcome to class B\"\n",
    "\n",
    "class C(A,B):\n",
    "    varC = \"Welcome to class C\"\n",
    "\n",
    "c = C()\n",
    "print(c.varA)\n",
    "print(c.varB)\n",
    "print(c.varC)"
   ]
  },
  {
   "cell_type": "markdown",
   "metadata": {
    "application/vnd.databricks.v1+cell": {
     "cellMetadata": {},
     "inputWidgets": {},
     "nuid": "1ab1b214-13ef-4467-8fec-c663972f2690",
     "showTitle": false,
     "tableResultSettingsMap": {},
     "title": ""
    }
   },
   "source": [
    "### Super Method\n",
    "\n",
    "- super() methos is used to access methods of the parent class."
   ]
  },
  {
   "cell_type": "code",
   "execution_count": 0,
   "metadata": {
    "application/vnd.databricks.v1+cell": {
     "cellMetadata": {
      "byteLimit": 2048000,
      "rowLimit": 10000
     },
     "inputWidgets": {},
     "nuid": "2b064f34-b0c9-4ed4-a991-21cd6604d5d6",
     "showTitle": false,
     "tableResultSettingsMap": {},
     "title": ""
    }
   },
   "outputs": [],
   "source": [
    "class Car:\n",
    "    def __init__(self, type):\n",
    "        self.type = type\n",
    "\n",
    "    @staticmethod\n",
    "    def start():\n",
    "        print(\"Car Started....\")\n",
    "\n",
    "    @staticmethod\n",
    "    def stop():\n",
    "        print(\"Car Stopped....\")\n",
    "\n",
    "class ToyotaCar(Car):\n",
    "    def __init__(self, name, type):\n",
    "        super().__init__(type)\n",
    "        self.name = name\n",
    "        super().start()\n",
    "\n",
    "c1 = ToyotaCar(\"Fortuner\", \"SUV\")\n",
    "print(c1.type)\n",
    "\n"
   ]
  },
  {
   "cell_type": "markdown",
   "metadata": {
    "application/vnd.databricks.v1+cell": {
     "cellMetadata": {},
     "inputWidgets": {},
     "nuid": "dfda8fd4-b69f-4dce-9e49-5f37130dca3d",
     "showTitle": false,
     "tableResultSettingsMap": {},
     "title": ""
    }
   },
   "source": [
    "### class method\n",
    "\n",
    "- A class method is bound to the class & retrive the class as an implicit first argument.\n",
    "- **Note** - static method can't access or modify class state & generally for utility.\n",
    "\n",
    "\n",
    "\n",
    "- static method()\n",
    "- class method(cls)\n",
    "- instance methods(self)\n"
   ]
  },
  {
   "cell_type": "code",
   "execution_count": 0,
   "metadata": {
    "application/vnd.databricks.v1+cell": {
     "cellMetadata": {
      "byteLimit": 2048000,
      "rowLimit": 10000
     },
     "inputWidgets": {},
     "nuid": "e51ce7fa-3435-4184-bb8b-0e601b7c5c59",
     "showTitle": false,
     "tableResultSettingsMap": {},
     "title": ""
    }
   },
   "outputs": [],
   "source": [
    "class Person:\n",
    "    name = \"Anonymous\"\n",
    "\n",
    "    @classmethod # decorator\n",
    "    def changeName(self, name):\n",
    "        self.name = name\n",
    "\n",
    "    @classmethod # decorator\n",
    "    def greet(cls):\n",
    "        print(f\"Welcome {cls.name}\")\n",
    "\n",
    "Person.greet()\n",
    "\n",
    "p1 = Person()\n",
    "p1.changeName(\"Neha\")\n",
    "p1.greet()\n",
    "print(p1.name)\n",
    "print(Person.name)"
   ]
  },
  {
   "cell_type": "markdown",
   "metadata": {
    "application/vnd.databricks.v1+cell": {
     "cellMetadata": {},
     "inputWidgets": {},
     "nuid": "88e69613-a949-4431-8587-c3442db497cf",
     "showTitle": false,
     "tableResultSettingsMap": {},
     "title": ""
    }
   },
   "source": [
    "###property decorator\n",
    "- we use @property decorator on any method in the class to use the method as a property.\n",
    "\n",
    "- getter decorator (have a look in this also)\n",
    "- setter decorator (have a look in this also)\n",
    "- types of decorator"
   ]
  },
  {
   "cell_type": "code",
   "execution_count": 0,
   "metadata": {
    "application/vnd.databricks.v1+cell": {
     "cellMetadata": {
      "byteLimit": 2048000,
      "rowLimit": 10000
     },
     "inputWidgets": {},
     "nuid": "1ce3c7fa-9e44-4ebe-a47d-cbbd6c4d72a3",
     "showTitle": false,
     "tableResultSettingsMap": {},
     "title": ""
    }
   },
   "outputs": [],
   "source": [
    "class Student:\n",
    "    def __init__(self, phy, chem, maths):\n",
    "        self.phy = phy\n",
    "        self.chem = chem\n",
    "        self.maths = maths\n",
    "        self\n",
    "    \n",
    "    @property\n",
    "    def percentage(self):\n",
    "        return str((self.phy + self.chem + self.maths)/3) + \"%\"\n",
    "\n",
    "stu1 = Student(98, 97, 99)\n",
    "print(stu1.percentage)\n",
    "\n",
    "stu1.phy = 86\n",
    "print(stu1.percentage)\n"
   ]
  },
  {
   "cell_type": "markdown",
   "metadata": {
    "application/vnd.databricks.v1+cell": {
     "cellMetadata": {},
     "inputWidgets": {},
     "nuid": "a5032715-b07a-40d1-9418-7c84cba81a8b",
     "showTitle": false,
     "tableResultSettingsMap": {},
     "title": ""
    }
   },
   "source": [
    "### Polymorphism: Operator Overloading\n",
    "\n",
    "- when the same operator is allowed to have different meaning according to the context.\n",
    "- Operators & Dunder (double underscore) functions\n",
    "    - a + b # addition  a.__add__(b)\n",
    "    - a - b # substraction  a.__sub__(b)\n",
    "    - a * b # multiplication  a.__mul__(b)\n",
    "    - a / b # division  a.__truediv__(b)\n",
    "    - a % b # modulus  a.__mod__(b)"
   ]
  },
  {
   "cell_type": "code",
   "execution_count": 0,
   "metadata": {
    "application/vnd.databricks.v1+cell": {
     "cellMetadata": {
      "byteLimit": 2048000,
      "rowLimit": 10000
     },
     "inputWidgets": {},
     "nuid": "b472eaaa-bd95-4ad1-802a-a38cbe10eb55",
     "showTitle": false,
     "tableResultSettingsMap": {},
     "title": ""
    }
   },
   "outputs": [],
   "source": [
    "class Complex:\n",
    "    def __init__(self, real, imag):\n",
    "        self.real = real\n",
    "        self.imag = imag\n",
    "\n",
    "    def __add__(self, other):\n",
    "        newReal = self.real + other.real\n",
    "        newImag = self.imag + other.imag\n",
    "        return Complex(newReal, newImag)\n",
    "    \n",
    "    def __sub__(self, other):\n",
    "        newReal = self.real - other.real\n",
    "        newImag = self.imag - other.imag\n",
    "        return Complex(newReal, newImag)\n",
    "    \n",
    "    def showNum(self):\n",
    "        print(self.real, \"i +\", self.imag, \"j\")\n",
    "    \n",
    "\n",
    "c1 = Complex(1, 2)\n",
    "c1.showNum()\n",
    "c2 = Complex(3, 4)\n",
    "c2.showNum()\n",
    "\n",
    "c3 = c1 + c2\n",
    "c3.showNum()\n",
    "\n",
    "c4 = c1 - c2\n",
    "c4.showNum()"
   ]
  },
  {
   "cell_type": "markdown",
   "metadata": {
    "application/vnd.databricks.v1+cell": {
     "cellMetadata": {},
     "inputWidgets": {},
     "nuid": "9383bc83-9976-4634-beb8-2016a3e002f8",
     "showTitle": false,
     "tableResultSettingsMap": {},
     "title": ""
    }
   },
   "source": [
    "\n",
    "Qs. Define a Circle class to create a circle with radius r using the constructor.\n",
    "Define an Area() method of the class which calculates the area of the circle.\n",
    "Define a Perimeter() method of the class which allows you to calculate the perimeter of the circle."
   ]
  },
  {
   "cell_type": "code",
   "execution_count": 0,
   "metadata": {
    "application/vnd.databricks.v1+cell": {
     "cellMetadata": {
      "byteLimit": 2048000,
      "rowLimit": 10000
     },
     "inputWidgets": {},
     "nuid": "4dc535a1-b847-443e-acec-dd632138a01e",
     "showTitle": false,
     "tableResultSettingsMap": {},
     "title": ""
    }
   },
   "outputs": [],
   "source": [
    "class Circle:\n",
    "    def __init__(self, radius):\n",
    "        self.radius = radius\n",
    "\n",
    "    def area(self):\n",
    "        area = 3.14 * self.radius * self.radius\n",
    "        return area\n",
    "    \n",
    "    def perimeter(self):\n",
    "        perimeter = 2 * 3.14 * self.radius\n",
    "        return perimeter\n",
    "    \n",
    "\n",
    "c1 = Circle(6)\n",
    "print(c1.area())\n",
    "print(c1.perimeter())"
   ]
  },
  {
   "cell_type": "code",
   "execution_count": 0,
   "metadata": {
    "application/vnd.databricks.v1+cell": {
     "cellMetadata": {
      "byteLimit": 2048000,
      "rowLimit": 10000
     },
     "inputWidgets": {},
     "nuid": "531f0c5c-52dc-4f07-a3bd-b7c2d680a7bb",
     "showTitle": false,
     "tableResultSettingsMap": {},
     "title": ""
    }
   },
   "outputs": [],
   "source": [
    "#create a class called Order which stores item & its price. Use Dunder function __gt__() to convey that:\n",
    "#order1 > order2 if price of order1 > price of order2\n",
    "\n",
    "class Order:\n",
    "  def __init__(self, item, price):\n",
    "    self.item = item\n",
    "    self.price = price\n",
    "\n",
    "  def __gt__(self,order):\n",
    "    return self.price > order.price\n",
    "  \n",
    "\n",
    "o1 = Order(\"Pizza\", 100)\n",
    "o2 = Order(\"Burger\", 50)\n",
    "print(o1 > o2)"
   ]
  }
 ],
 "metadata": {
  "application/vnd.databricks.v1+notebook": {
   "computePreferences": null,
   "dashboards": [],
   "environmentMetadata": {
    "base_environment": "",
    "environment_version": "2"
   },
   "inputWidgetPreferences": null,
   "language": "python",
   "notebookMetadata": {
    "pythonIndentUnit": 4
   },
   "notebookName": "Python Practice 4.0",
   "widgets": {}
  },
  "language_info": {
   "name": "python"
  }
 },
 "nbformat": 4,
 "nbformat_minor": 0
}
