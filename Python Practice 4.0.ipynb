{
 "cells": [
  {
   "cell_type": "markdown",
   "metadata": {
    "application/vnd.databricks.v1+cell": {
     "cellMetadata": {},
     "inputWidgets": {},
     "nuid": "7a2ec230-d138-48da-b81e-f99e2b63ce4d",
     "showTitle": false,
     "tableResultSettingsMap": {},
     "title": ""
    }
   },
   "source": [
    "## OOP Concept"
   ]
  },
  {
   "cell_type": "markdown",
   "metadata": {
    "application/vnd.databricks.v1+cell": {
     "cellMetadata": {},
     "inputWidgets": {},
     "nuid": "94deb09a-7b37-4875-bae0-b5c482334f0a",
     "showTitle": false,
     "tableResultSettingsMap": {},
     "title": ""
    }
   },
   "source": [
    "### Classes and Objects"
   ]
  },
  {
   "cell_type": "code",
   "execution_count": 0,
   "metadata": {
    "application/vnd.databricks.v1+cell": {
     "cellMetadata": {
      "byteLimit": 2048000,
      "rowLimit": 10000
     },
     "inputWidgets": {},
     "nuid": "a86ddcd0-8476-4b0a-85ef-20f31adb15db",
     "showTitle": false,
     "tableResultSettingsMap": {},
     "title": ""
    }
   },
   "outputs": [],
   "source": [
    "#Create a class\n",
    "\n",
    "class customers:\n",
    "    def __init__(self, name, age):\n",
    "        self.name = name\n",
    "        self.age = age\n",
    "\n",
    "    def greet(self):\n",
    "        print(f\"Hello, my name is {self.name} and I am {self.age} years old.\")\n",
    "\n",
    "c1 = customers(\"Neha\", 26)\n",
    "c1.greet()"
   ]
  },
  {
   "cell_type": "code",
   "execution_count": 0,
   "metadata": {
    "application/vnd.databricks.v1+cell": {
     "cellMetadata": {
      "byteLimit": 2048000,
      "rowLimit": 10000
     },
     "inputWidgets": {},
     "nuid": "c67604ad-e82a-4474-9f83-c9783122b7ef",
     "showTitle": false,
     "tableResultSettingsMap": {},
     "title": ""
    }
   },
   "outputs": [],
   "source": [
    "class pipeline:\n",
    "    def __init__(self, pipeline_name):\n",
    "        self.pipeline_name = pipeline_name\n",
    "\n",
    "    def execute(self):\n",
    "        print(f\"Execution step : {self.pipeline_name}\")\n",
    "\n",
    "ingest = pipeline(\"Ingestion\")\n",
    "ingest.execute()\n",
    "transfrom = pipeline(\"Transfromation\")\n",
    "transfrom.execute()"
   ]
  },
  {
   "cell_type": "markdown",
   "metadata": {
    "application/vnd.databricks.v1+cell": {
     "cellMetadata": {},
     "inputWidgets": {},
     "nuid": "b200924e-6a9d-4c9b-9ab7-1c8ed62241ea",
     "showTitle": false,
     "tableResultSettingsMap": {},
     "title": ""
    }
   },
   "source": [
    "## Encapsulation"
   ]
  },
  {
   "cell_type": "code",
   "execution_count": 0,
   "metadata": {
    "application/vnd.databricks.v1+cell": {
     "cellMetadata": {
      "byteLimit": 2048000,
      "rowLimit": 10000
     },
     "inputWidgets": {},
     "nuid": "2b80cf87-4f52-4d84-a469-1cf062e40956",
     "showTitle": false,
     "tableResultSettingsMap": {},
     "title": ""
    }
   },
   "outputs": [],
   "source": [
    "class DatabaseConnector:\n",
    "    def __init__(self):\n",
    "        self.credentials = \"user:pass@123\" # protected variables\n",
    "\n",
    "    def connect(self):\n",
    "        print(f\"Connecting to database with credentials: {self.credentials}\")\n",
    "        return \"DB connection established\"\n",
    "\n",
    "db_connector = DatabaseConnector()\n",
    "#db_connector.connect()\n",
    "print(db_connector.connect())\n"
   ]
  },
  {
   "cell_type": "markdown",
   "metadata": {
    "application/vnd.databricks.v1+cell": {
     "cellMetadata": {},
     "inputWidgets": {},
     "nuid": "e513ee76-8df2-4a3b-b390-bd9d6b35a634",
     "showTitle": false,
     "tableResultSettingsMap": {},
     "title": ""
    }
   },
   "source": [
    "### Constructor\n",
    "- All the classes have a function called intit(), which is always executed when the class is being initiated.\n",
    "- The **Self** parameter is a reference to the current instanceof the class, and is used to access variablesthat belongs to the class.\n",
    "- The data or variables store in a program is also known as  attributes.\n",
    "- Multiple arguments can be defined in constructor.\n",
    "- Python does not support constructor overloading like Java or C++.\n",
    "- Objects and instances are same.\n",
    "- If a program is having same name of class attribute and object attribute then obj attr's preferrence >> class attr's preferrence"
   ]
  },
  {
   "cell_type": "code",
   "execution_count": 0,
   "metadata": {
    "application/vnd.databricks.v1+cell": {
     "cellMetadata": {
      "byteLimit": 2048000,
      "rowLimit": 10000
     },
     "inputWidgets": {},
     "nuid": "f31f182e-73ca-4dd4-acca-6cdccf586dd9",
     "showTitle": false,
     "tableResultSettingsMap": {},
     "title": ""
    }
   },
   "outputs": [],
   "source": [
    "class Student:\n",
    "\n",
    "  college_name = \"HIT\" # class attribute\n",
    "  #name = \"Anonymous\" # class attribute\n",
    "\n",
    "  #default constructor\n",
    "  #def __init__(self):\n",
    "    #pass\n",
    "  \n",
    "  #parameterized constructor\n",
    "  def __init__(self, name = \"Anonymous\"):\n",
    "    print(\"Adding new students in DB....\")\n",
    "    self.name = name # self.name is an instance/object attribute\n",
    "\n",
    "s1 = Student(\"Nutan\")\n",
    "print(s1.name)\n",
    "s2 = Student(\"Neha\")\n",
    "print(s2.name)\n",
    "\n",
    "s3 = Student()\n",
    "print(s3.name)\n",
    "print(Student.college_name)\n"
   ]
  },
  {
   "cell_type": "markdown",
   "metadata": {
    "application/vnd.databricks.v1+cell": {
     "cellMetadata": {},
     "inputWidgets": {},
     "nuid": "d718125c-e31b-46a4-98d8-0c4f58dcab4a",
     "showTitle": false,
     "tableResultSettingsMap": {},
     "title": ""
    }
   },
   "source": [
    "### Method\n",
    "- Methods are the function that belongs to objects\n"
   ]
  },
  {
   "cell_type": "code",
   "execution_count": 0,
   "metadata": {
    "application/vnd.databricks.v1+cell": {
     "cellMetadata": {
      "byteLimit": 2048000,
      "rowLimit": 10000
     },
     "inputWidgets": {},
     "nuid": "1cbd2090-0108-40b4-b08e-bba9e5e556df",
     "showTitle": false,
     "tableResultSettingsMap": {},
     "title": ""
    }
   },
   "outputs": [],
   "source": [
    "class Student:\n",
    "    \n",
    "    college_name = \"HIT\" # class attribute\n",
    "    #name = \"Anonymous\" # class attribute\n",
    "\n",
    "    #default constructor\n",
    "    #def __init__(self):\n",
    "        #pass\n",
    "  \n",
    "    #parameterized constructor\n",
    "    def __init__(self, name = \"Anonymous\"):\n",
    "        #print(\"Adding new students in DB....\")\n",
    "        self.name = name # self.name is an instance/object \n",
    "    def welcome(self):\n",
    "        print(\"Welcome to my World\")\n",
    "        #print(\"Welcome to my World\" + \" \" + self.name)\n",
    "    \n",
    "\n",
    "\n",
    "s1 = Student(\"Nutan\")\n",
    "print(s1.name)\n",
    "s2 = Student(\"Neha\")\n",
    "print(s2.name)\n",
    "\n",
    "s3 = Student()\n",
    "print(s3.name)\n",
    "\n",
    "s4 = Student()\n",
    "s4.welcome()\n",
    "\n",
    "print(Student.college_name)"
   ]
  },
  {
   "cell_type": "code",
   "execution_count": 0,
   "metadata": {
    "application/vnd.databricks.v1+cell": {
     "cellMetadata": {},
     "inputWidgets": {},
     "nuid": "cfc75553-4363-46aa-8af8-a3de86567450",
     "showTitle": false,
     "tableResultSettingsMap": {},
     "title": ""
    }
   },
   "outputs": [],
   "source": []
  }
 ],
 "metadata": {
  "application/vnd.databricks.v1+notebook": {
   "computePreferences": null,
   "dashboards": [],
   "environmentMetadata": {
    "base_environment": "",
    "environment_version": "2"
   },
   "inputWidgetPreferences": null,
   "language": "python",
   "notebookMetadata": {
    "pythonIndentUnit": 4
   },
   "notebookName": "Python Practice 4.0",
   "widgets": {}
  },
  "language_info": {
   "name": "python"
  }
 },
 "nbformat": 4,
 "nbformat_minor": 0
}
