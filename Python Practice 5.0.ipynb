{
 "cells": [
  {
   "cell_type": "markdown",
   "metadata": {
    "application/vnd.databricks.v1+cell": {
     "cellMetadata": {},
     "inputWidgets": {},
     "nuid": "ba4afcd7-2433-4fc9-8714-135cb3113390",
     "showTitle": false,
     "tableResultSettingsMap": {},
     "title": ""
    }
   },
   "source": [
    "\n",
    "Description:\n",
    "Build a mini ETL simulation: connect to an open API, extract structured data, convert to a usable format, and save it - a real-life daily task for Data Engineers.\n",
    "Objective:\n",
    "To get hands-on experience with REST APIs using requests, and practice converting structured JSON data into a file using Python.\n",
    "Tasks:\n",
    "1. Hit this URL using requests:\n",
    "https://jsonplaceholder.typicode.com/users\n",
    "2. Parse the JSON response and flatten relevant fields:\n",
    ".\n",
    "name, username, email, city (from address), company name\n",
    "3. Convert the parsed data into a list of dictionaries and write it to a new CSV: api_users.csv.\n",
    "4. Bonus: Wrap the logic in a function and handle API failures (non-200 responses) using try-except."
   ]
  },
  {
   "cell_type": "code",
   "execution_count": 0,
   "metadata": {
    "application/vnd.databricks.v1+cell": {
     "cellMetadata": {
      "byteLimit": 2048000,
      "rowLimit": 10000
     },
     "inputWidgets": {},
     "nuid": "5d7bfc4d-5463-4aec-97b0-fec2909c1b9c",
     "showTitle": false,
     "tableResultSettingsMap": {},
     "title": ""
    }
   },
   "outputs": [],
   "source": [
    "import requests\n",
    "import csv\n",
    "\n",
    "def fetch_and_write_users():\n",
    "    url = \"https://jsonplaceholder.typicode.com/users\"\n",
    "    try:\n",
    "        response = requests.get(url)\n",
    "        response.raise_for_status()\n",
    "        data = response.json()\n",
    "        users = []\n",
    "        for user in data:\n",
    "            users.append({\n",
    "                \"id\": user[\"id\"],\n",
    "                \"name\": user[\"name\"],\n",
    "                \"username\": user[\"username\"],\n",
    "                \"email\": user[\"email\"],\n",
    "                \"city\": user[\"address\"][\"city\"],\n",
    "                \"company_name\": user[\"company\"][\"name\"]\n",
    "            })\n",
    "        with open(\"api_users.csv\", \"w\", newline=\"\") as csv_file:\n",
    "            fieldnames = [\"id\", \"name\", \"username\", \"email\", \"city\", \"company_name\"]\n",
    "            writer = csv.DictWriter(csv_file, fieldnames=fieldnames)\n",
    "            writer.writeheader()\n",
    "            writer.writerows(users)\n",
    "    except Exception as e:\n",
    "        print(f\"Error: {e}\")\n",
    "\n",
    "fetch_and_write_users()"
   ]
  }
 ],
 "metadata": {
  "application/vnd.databricks.v1+notebook": {
   "computePreferences": null,
   "dashboards": [],
   "environmentMetadata": {
    "base_environment": "",
    "environment_version": "2"
   },
   "inputWidgetPreferences": null,
   "language": "python",
   "notebookMetadata": {
    "pythonIndentUnit": 4
   },
   "notebookName": "Python Practice 5.0",
   "widgets": {}
  },
  "language_info": {
   "name": "python"
  }
 },
 "nbformat": 4,
 "nbformat_minor": 0
}
